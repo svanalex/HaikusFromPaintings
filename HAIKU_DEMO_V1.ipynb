{
  "nbformat": 4,
  "nbformat_minor": 0,
  "metadata": {
    "colab": {
      "provenance": [],
      "authorship_tag": "ABX9TyNI7+6jE92u3mmaeb07GQZw",
      "include_colab_link": true
    },
    "kernelspec": {
      "name": "python3",
      "display_name": "Python 3"
    },
    "language_info": {
      "name": "python"
    }
  },
  "cells": [
    {
      "cell_type": "markdown",
      "metadata": {
        "id": "view-in-github",
        "colab_type": "text"
      },
      "source": [
        "<a href=\"https://colab.research.google.com/github/svanalex/HaikusFromPaintings/blob/main/HAIKU_DEMO_V1.ipynb\" target=\"_parent\"><img src=\"https://colab.research.google.com/assets/colab-badge.svg\" alt=\"Open In Colab\"/></a>"
      ]
    },
    {
      "cell_type": "code",
      "source": [
        "!pip install nltk\n",
        "!pip install transformers\n",
        "!pip install lxml_html_clean\n",
        "!pip install lxml[html_clean]\n",
        "!pip install newspaper3k\n",
        "\n",
        "from newspaper import Article\n",
        "import nltk\n",
        "nltk.download('punkt_tab')\n",
        "\n",
        "from transformers import BlipProcessor, BlipForConditionalGeneration\n",
        "import torch\n",
        "from PIL import Image\n",
        "\n",
        "# # Install required libraries if not already installed\n",
        "!pip install nltk newspaper3k transformers requests textblob\n",
        "\n",
        "# # Import necessary libraries\n",
        "import requests\n",
        "from newspaper import Article\n",
        "from textblob import TextBlob\n",
        "from transformers import pipeline\n",
        "import numpy as np"
      ],
      "metadata": {
        "colab": {
          "base_uri": "https://localhost:8080/"
        },
        "id": "4uzUpfZ1brmF",
        "outputId": "e27faa0c-33c9-4347-f181-32bf714a9807"
      },
      "execution_count": 8,
      "outputs": [
        {
          "output_type": "stream",
          "name": "stdout",
          "text": [
            "Requirement already satisfied: nltk in /usr/local/lib/python3.11/dist-packages (3.9.1)\n",
            "Requirement already satisfied: click in /usr/local/lib/python3.11/dist-packages (from nltk) (8.1.8)\n",
            "Requirement already satisfied: joblib in /usr/local/lib/python3.11/dist-packages (from nltk) (1.4.2)\n",
            "Requirement already satisfied: regex>=2021.8.3 in /usr/local/lib/python3.11/dist-packages (from nltk) (2024.11.6)\n",
            "Requirement already satisfied: tqdm in /usr/local/lib/python3.11/dist-packages (from nltk) (4.67.1)\n",
            "Requirement already satisfied: transformers in /usr/local/lib/python3.11/dist-packages (4.48.3)\n",
            "Requirement already satisfied: filelock in /usr/local/lib/python3.11/dist-packages (from transformers) (3.17.0)\n",
            "Requirement already satisfied: huggingface-hub<1.0,>=0.24.0 in /usr/local/lib/python3.11/dist-packages (from transformers) (0.28.1)\n",
            "Requirement already satisfied: numpy>=1.17 in /usr/local/lib/python3.11/dist-packages (from transformers) (1.26.4)\n",
            "Requirement already satisfied: packaging>=20.0 in /usr/local/lib/python3.11/dist-packages (from transformers) (24.2)\n",
            "Requirement already satisfied: pyyaml>=5.1 in /usr/local/lib/python3.11/dist-packages (from transformers) (6.0.2)\n",
            "Requirement already satisfied: regex!=2019.12.17 in /usr/local/lib/python3.11/dist-packages (from transformers) (2024.11.6)\n",
            "Requirement already satisfied: requests in /usr/local/lib/python3.11/dist-packages (from transformers) (2.32.3)\n",
            "Requirement already satisfied: tokenizers<0.22,>=0.21 in /usr/local/lib/python3.11/dist-packages (from transformers) (0.21.0)\n",
            "Requirement already satisfied: safetensors>=0.4.1 in /usr/local/lib/python3.11/dist-packages (from transformers) (0.5.3)\n",
            "Requirement already satisfied: tqdm>=4.27 in /usr/local/lib/python3.11/dist-packages (from transformers) (4.67.1)\n",
            "Requirement already satisfied: fsspec>=2023.5.0 in /usr/local/lib/python3.11/dist-packages (from huggingface-hub<1.0,>=0.24.0->transformers) (2024.10.0)\n",
            "Requirement already satisfied: typing-extensions>=3.7.4.3 in /usr/local/lib/python3.11/dist-packages (from huggingface-hub<1.0,>=0.24.0->transformers) (4.12.2)\n",
            "Requirement already satisfied: charset-normalizer<4,>=2 in /usr/local/lib/python3.11/dist-packages (from requests->transformers) (3.4.1)\n",
            "Requirement already satisfied: idna<4,>=2.5 in /usr/local/lib/python3.11/dist-packages (from requests->transformers) (3.10)\n",
            "Requirement already satisfied: urllib3<3,>=1.21.1 in /usr/local/lib/python3.11/dist-packages (from requests->transformers) (2.3.0)\n",
            "Requirement already satisfied: certifi>=2017.4.17 in /usr/local/lib/python3.11/dist-packages (from requests->transformers) (2025.1.31)\n",
            "Requirement already satisfied: lxml_html_clean in /usr/local/lib/python3.11/dist-packages (0.4.1)\n",
            "Requirement already satisfied: lxml in /usr/local/lib/python3.11/dist-packages (from lxml_html_clean) (5.3.1)\n",
            "Requirement already satisfied: lxml[html_clean] in /usr/local/lib/python3.11/dist-packages (5.3.1)\n",
            "Requirement already satisfied: lxml_html_clean in /usr/local/lib/python3.11/dist-packages (from lxml[html_clean]) (0.4.1)\n",
            "Requirement already satisfied: newspaper3k in /usr/local/lib/python3.11/dist-packages (0.2.8)\n",
            "Requirement already satisfied: beautifulsoup4>=4.4.1 in /usr/local/lib/python3.11/dist-packages (from newspaper3k) (4.13.3)\n",
            "Requirement already satisfied: Pillow>=3.3.0 in /usr/local/lib/python3.11/dist-packages (from newspaper3k) (11.1.0)\n",
            "Requirement already satisfied: PyYAML>=3.11 in /usr/local/lib/python3.11/dist-packages (from newspaper3k) (6.0.2)\n",
            "Requirement already satisfied: cssselect>=0.9.2 in /usr/local/lib/python3.11/dist-packages (from newspaper3k) (1.2.0)\n",
            "Requirement already satisfied: lxml>=3.6.0 in /usr/local/lib/python3.11/dist-packages (from newspaper3k) (5.3.1)\n",
            "Requirement already satisfied: nltk>=3.2.1 in /usr/local/lib/python3.11/dist-packages (from newspaper3k) (3.9.1)\n",
            "Requirement already satisfied: requests>=2.10.0 in /usr/local/lib/python3.11/dist-packages (from newspaper3k) (2.32.3)\n",
            "Requirement already satisfied: feedparser>=5.2.1 in /usr/local/lib/python3.11/dist-packages (from newspaper3k) (6.0.11)\n",
            "Requirement already satisfied: tldextract>=2.0.1 in /usr/local/lib/python3.11/dist-packages (from newspaper3k) (5.1.3)\n",
            "Requirement already satisfied: feedfinder2>=0.0.4 in /usr/local/lib/python3.11/dist-packages (from newspaper3k) (0.0.4)\n",
            "Requirement already satisfied: jieba3k>=0.35.1 in /usr/local/lib/python3.11/dist-packages (from newspaper3k) (0.35.1)\n",
            "Requirement already satisfied: python-dateutil>=2.5.3 in /usr/local/lib/python3.11/dist-packages (from newspaper3k) (2.8.2)\n",
            "Requirement already satisfied: tinysegmenter==0.3 in /usr/local/lib/python3.11/dist-packages (from newspaper3k) (0.3)\n",
            "Requirement already satisfied: soupsieve>1.2 in /usr/local/lib/python3.11/dist-packages (from beautifulsoup4>=4.4.1->newspaper3k) (2.6)\n",
            "Requirement already satisfied: typing-extensions>=4.0.0 in /usr/local/lib/python3.11/dist-packages (from beautifulsoup4>=4.4.1->newspaper3k) (4.12.2)\n",
            "Requirement already satisfied: six in /usr/local/lib/python3.11/dist-packages (from feedfinder2>=0.0.4->newspaper3k) (1.17.0)\n",
            "Requirement already satisfied: sgmllib3k in /usr/local/lib/python3.11/dist-packages (from feedparser>=5.2.1->newspaper3k) (1.0.0)\n",
            "Requirement already satisfied: click in /usr/local/lib/python3.11/dist-packages (from nltk>=3.2.1->newspaper3k) (8.1.8)\n",
            "Requirement already satisfied: joblib in /usr/local/lib/python3.11/dist-packages (from nltk>=3.2.1->newspaper3k) (1.4.2)\n",
            "Requirement already satisfied: regex>=2021.8.3 in /usr/local/lib/python3.11/dist-packages (from nltk>=3.2.1->newspaper3k) (2024.11.6)\n",
            "Requirement already satisfied: tqdm in /usr/local/lib/python3.11/dist-packages (from nltk>=3.2.1->newspaper3k) (4.67.1)\n",
            "Requirement already satisfied: charset-normalizer<4,>=2 in /usr/local/lib/python3.11/dist-packages (from requests>=2.10.0->newspaper3k) (3.4.1)\n",
            "Requirement already satisfied: idna<4,>=2.5 in /usr/local/lib/python3.11/dist-packages (from requests>=2.10.0->newspaper3k) (3.10)\n",
            "Requirement already satisfied: urllib3<3,>=1.21.1 in /usr/local/lib/python3.11/dist-packages (from requests>=2.10.0->newspaper3k) (2.3.0)\n",
            "Requirement already satisfied: certifi>=2017.4.17 in /usr/local/lib/python3.11/dist-packages (from requests>=2.10.0->newspaper3k) (2025.1.31)\n",
            "Requirement already satisfied: requests-file>=1.4 in /usr/local/lib/python3.11/dist-packages (from tldextract>=2.0.1->newspaper3k) (2.1.0)\n",
            "Requirement already satisfied: filelock>=3.0.8 in /usr/local/lib/python3.11/dist-packages (from tldextract>=2.0.1->newspaper3k) (3.17.0)\n"
          ]
        },
        {
          "output_type": "stream",
          "name": "stderr",
          "text": [
            "[nltk_data] Downloading package punkt_tab to /root/nltk_data...\n",
            "[nltk_data]   Package punkt_tab is already up-to-date!\n"
          ]
        },
        {
          "output_type": "execute_result",
          "data": {
            "text/plain": [
              "True"
            ]
          },
          "metadata": {},
          "execution_count": 8
        }
      ]
    },
    {
      "cell_type": "code",
      "source": [
        "!pip install Llama\n",
        "!pip install llama-cpp-python"
      ],
      "metadata": {
        "colab": {
          "base_uri": "https://localhost:8080/"
        },
        "id": "-z72qml-ufAe",
        "outputId": "eb74b0d3-3dec-48ff-f3fd-1496da54ee6e"
      },
      "execution_count": 11,
      "outputs": [
        {
          "output_type": "stream",
          "name": "stdout",
          "text": [
            "Collecting Llama\n",
            "  Using cached llama-0.1.1.tar.gz (387 kB)\n",
            "  \u001b[1;31merror\u001b[0m: \u001b[1msubprocess-exited-with-error\u001b[0m\n",
            "  \n",
            "  \u001b[31m×\u001b[0m \u001b[32mpython setup.py egg_info\u001b[0m did not run successfully.\n",
            "  \u001b[31m│\u001b[0m exit code: \u001b[1;36m1\u001b[0m\n",
            "  \u001b[31m╰─>\u001b[0m See above for output.\n",
            "  \n",
            "  \u001b[1;35mnote\u001b[0m: This error originates from a subprocess, and is likely not a problem with pip.\n",
            "  Preparing metadata (setup.py) ... \u001b[?25l\u001b[?25herror\n",
            "\u001b[1;31merror\u001b[0m: \u001b[1mmetadata-generation-failed\u001b[0m\n",
            "\n",
            "\u001b[31m×\u001b[0m Encountered error while generating package metadata.\n",
            "\u001b[31m╰─>\u001b[0m See above for output.\n",
            "\n",
            "\u001b[1;35mnote\u001b[0m: This is an issue with the package mentioned above, not pip.\n",
            "\u001b[1;36mhint\u001b[0m: See above for details.\n",
            "Requirement already satisfied: llama-cpp-python in /usr/local/lib/python3.11/dist-packages (0.3.7)\n",
            "Requirement already satisfied: typing-extensions>=4.5.0 in /usr/local/lib/python3.11/dist-packages (from llama-cpp-python) (4.12.2)\n",
            "Requirement already satisfied: numpy>=1.20.0 in /usr/local/lib/python3.11/dist-packages (from llama-cpp-python) (1.26.4)\n",
            "Requirement already satisfied: diskcache>=5.6.1 in /usr/local/lib/python3.11/dist-packages (from llama-cpp-python) (5.6.3)\n",
            "Requirement already satisfied: jinja2>=2.11.3 in /usr/local/lib/python3.11/dist-packages (from llama-cpp-python) (3.1.5)\n",
            "Requirement already satisfied: MarkupSafe>=2.0 in /usr/local/lib/python3.11/dist-packages (from jinja2>=2.11.3->llama-cpp-python) (3.0.2)\n"
          ]
        }
      ]
    },
    {
      "cell_type": "code",
      "source": [
        "processor = BlipProcessor.from_pretrained(\"Salesforce/blip-image-captioning-base\")\n",
        "model = BlipForConditionalGeneration.from_pretrained(\"Salesforce/blip-image-captioning-base\")\n",
        "largerModel = BlipForConditionalGeneration.from_pretrained(\"Salesforce/blip-image-captioning-large\")\n",
        "\n",
        "image = Image.open(\"/content/Susremaster.jpg\")\n",
        "\n",
        "inputs = processor(images=image, return_tensors=\"pt\")"
      ],
      "metadata": {
        "id": "vSc4AbIDQssV"
      },
      "execution_count": 31,
      "outputs": []
    },
    {
      "cell_type": "code",
      "source": [
        "outputs = largerModel.generate(**inputs, min_length=20, max_length=50, do_sample=True, temperature=0.15)\n",
        "caption = processor.decode(outputs[0], skip_special_tokens=True)\n",
        "print(\"Generated Caption:\", caption)"
      ],
      "metadata": {
        "colab": {
          "base_uri": "https://localhost:8080/"
        },
        "id": "7UB_Ix8QVaRJ",
        "outputId": "8503c3ce-ac16-49ec-d7cc-a73334cd6c61"
      },
      "execution_count": 32,
      "outputs": [
        {
          "output_type": "stream",
          "name": "stdout",
          "text": [
            "Generated Caption: a cartoon blue letter a with a hole in the middle of it ' s face and a black background\n"
          ]
        }
      ]
    },
    {
      "cell_type": "code",
      "source": [
        "API_KEY = \"4c1fba7ae63c42e0a427de7ec756c178\"  # Replace with your actual NewsAPI key\n",
        "\n",
        "# Function to fetch 10-15 top news articles\n",
        "def get_newsapi_articles():\n",
        "    print(\"Fetching top news articles from NewsAPI...\")\n",
        "\n",
        "    url = f\"https://newsapi.org/v2/top-headlines?category=general&country=us&pageSize=15&apiKey={API_KEY}\"\n",
        "    response = requests.get(url)\n",
        "\n",
        "    if response.status_code != 200:\n",
        "        print(f\"Failed to fetch news. Status Code: {response.status_code}\")\n",
        "        return []\n",
        "\n",
        "    articles = response.json().get(\"articles\", [])\n",
        "\n",
        "    urls = [article[\"url\"] for article in articles]\n",
        "    print(f\"Fetched {len(urls)} articles:\")\n",
        "    for i, url in enumerate(urls):\n",
        "        print(f\"  {i+1}. {url}\")\n",
        "\n",
        "    return urls\n",
        "\n",
        "# Load Hugging Face's sentiment analysis model\n",
        "sentiment_pipeline = pipeline(\"sentiment-analysis\", model=\"distilbert/distilbert-base-uncased-finetuned-sst-2-english\")\n",
        "\n",
        "# Function to assign weight multipliers based on article category\n",
        "def get_article_weight(title):\n",
        "    \"\"\"Assigns a weight multiplier based on keywords in the article title.\"\"\"\n",
        "    title = title.lower()\n",
        "\n",
        "    if any(keyword in title for keyword in [\"earthquake\", \"war\", \"terror\", \"disaster\", \"crash\", \"shooting\", \"crisis\", \"attack\"]):\n",
        "        return 2.5  # High weight for disasters & crises\n",
        "    elif any(keyword in title for keyword in [\"politics\", \"election\", \"government\", \"policy\", \"scandal\"]):\n",
        "        return 2.0  # High weight for political events\n",
        "    elif any(keyword in title for keyword in [\"stock\", \"market\", \"economy\", \"inflation\", \"trade\"]):\n",
        "        return 1.5  # Medium weight for financial news\n",
        "    elif any(keyword in title for keyword in [\"science\", \"technology\", \"ai\", \"discovery\"]):\n",
        "        return 1.0  # Neutral weight for tech & science news\n",
        "    elif any(keyword in title for keyword in [\"sports\", \"entertainment\", \"celebrity\", \"movie\"]):\n",
        "        return 0.5  # Low weight for entertainment/sports\n",
        "    else:\n",
        "        return 1.0\n",
        "\n",
        "def analyze_articles(urls, use_summary=True):\n",
        "    print(\"\\nStarting sentiment analysis...\")\n",
        "    sentiment_scores = []\n",
        "\n",
        "    for url in urls:\n",
        "        try:\n",
        "            print(f\"\\nProcessing article: {url}\")\n",
        "\n",
        "            if \"forbes.com\" in url:\n",
        "                print(\"Skipping Forbes article due to 403 Forbidden error.\")\n",
        "                continue\n",
        "\n",
        "            article = Article(url)\n",
        "            article.download()\n",
        "            article.parse()\n",
        "            article.nlp()\n",
        "\n",
        "            text = article.summary if use_summary else article.text\n",
        "\n",
        "            # Skip very short texts (to avoid errors)\n",
        "            if len(text.split()) < 10:\n",
        "                print(\"Skipping: Text too short for analysis.\")\n",
        "                continue\n",
        "\n",
        "            truncated_text = text[:512]\n",
        "\n",
        "            blob = TextBlob(text)\n",
        "            transformers_sentiment = sentiment_pipeline(truncated_text)[0]\n",
        "\n",
        "            article_weight = get_article_weight(article.title)\n",
        "\n",
        "            sentiment_scores.append({\n",
        "                \"url\": url,\n",
        "                \"title\": article.title,\n",
        "                \"summary\": article.summary,\n",
        "                \"text_used\": \"Summary\" if use_summary else \"Full Article\",\n",
        "                \"textblob_polarity\": blob.sentiment.polarity * article_weight,\n",
        "                \"transformers_label\": transformers_sentiment[\"label\"],\n",
        "                \"transformers_score\": transformers_sentiment[\"score\"] * article_weight\n",
        "            })\n",
        "\n",
        "            print(f\"✔ Successfully processed ({'Summary' if use_summary else 'Full Article'})\")\n",
        "            print(f\"  - Title: {article.title}\")\n",
        "            print(f\"  - Weight Multiplier: {article_weight}\")\n",
        "            print(f\"  - TextBlob Polarity (Weighted): {blob.sentiment.polarity * article_weight}\")\n",
        "            print(f\"  - Transformers Label: {transformers_sentiment['label']}\")\n",
        "            print(f\"  - Transformers Score (Weighted): {transformers_sentiment['score'] * article_weight}\")\n",
        "\n",
        "        except Exception as e:\n",
        "            print(f\"Failed to process {url}: {e}\")\n",
        "\n",
        "    return sentiment_scores\n",
        "\n",
        "def get_mood(sentiments):\n",
        "    if not sentiments:\n",
        "        print(\"No articles processed successfully. Cannot determine mood.\")\n",
        "        return {\"mood\": \"Unknown\", \"avg_polarity\": None, \"avg_transformer_score\": None, \"influencing_articles\": []}\n",
        "\n",
        "    polarity_scores = [s[\"textblob_polarity\"] for s in sentiments]\n",
        "    transformer_scores = [\n",
        "        s[\"transformers_score\"] if s[\"transformers_label\"] == \"POSITIVE\" else -s[\"transformers_score\"]\n",
        "        for s in sentiments\n",
        "    ]\n",
        "\n",
        "    avg_polarity = np.mean(polarity_scores) if polarity_scores else 0\n",
        "    avg_transformer_score = np.mean(transformer_scores) if transformer_scores else 0\n",
        "\n",
        "    if avg_polarity > 0.6 or avg_transformer_score > 0.8:\n",
        "        mood = \"Very Positive\"\n",
        "    elif avg_polarity > 0.2 or avg_transformer_score > 0.4:\n",
        "        mood = \"Positive\"\n",
        "    elif avg_polarity < -0.6 or avg_transformer_score < -0.8:\n",
        "        mood = \"Very Negative\"\n",
        "    elif avg_polarity < -0.2 or avg_transformer_score < -0.4:\n",
        "        mood = \"Negative\"\n",
        "    else:\n",
        "        mood = \"Neutral\"\n",
        "\n",
        "    print(\"\\nFinal Mood Analysis:\")\n",
        "    print(f\"  - Average Polarity (Weighted): {avg_polarity}\")\n",
        "    print(f\"  - Average Transformer Score (Weighted): {avg_transformer_score}\")\n",
        "    print(f\"  - Overall Mood: {mood}\")\n",
        "\n",
        "\n",
        "    influencing_articles = [{\"title\": s[\"title\"], \"summary\": s[\"summary\"]} for s in sentiments]\n",
        "\n",
        "    return {\n",
        "        \"avg_polarity\": avg_polarity,\n",
        "        \"avg_transformer_score\": avg_transformer_score,\n",
        "        \"mood\": mood,\n",
        "        \"influencing_articles\": influencing_articles\n",
        "    }\n",
        "\n",
        "news_urls = get_newsapi_articles()\n",
        "\n",
        "print(\"\\n### Running Sentiment Analysis on Summaries ###\")\n",
        "sentiment_results_summary = analyze_articles(news_urls, use_summary=True)\n",
        "daily_mood_summary = get_mood(sentiment_results_summary)\n",
        "\n",
        "print(\"\\nFinal Results:\")\n",
        "print(f\"Daily Mood Based on Summaries: {daily_mood_summary['mood']}\")\n",
        "\n",
        "print(\"\\nKey Articles That Influenced the Mood:\")\n",
        "for i, article in enumerate(daily_mood_summary[\"influencing_articles\"]):\n",
        "    print(f\"{i+1}. {article['title']}\")\n",
        "    print(f\"   - {article['summary'][:150]}...\")\n"
      ],
      "metadata": {
        "colab": {
          "base_uri": "https://localhost:8080/"
        },
        "id": "eBItgEwla_s9",
        "outputId": "f62c81ab-3d97-4264-ae00-675d6a7d3a81"
      },
      "execution_count": 9,
      "outputs": [
        {
          "output_type": "stream",
          "name": "stdout",
          "text": [
            "Requirement already satisfied: nltk in /usr/local/lib/python3.11/dist-packages (3.9.1)\n",
            "Requirement already satisfied: newspaper3k in /usr/local/lib/python3.11/dist-packages (0.2.8)\n",
            "Requirement already satisfied: transformers in /usr/local/lib/python3.11/dist-packages (4.48.3)\n",
            "Requirement already satisfied: requests in /usr/local/lib/python3.11/dist-packages (2.32.3)\n",
            "Requirement already satisfied: textblob in /usr/local/lib/python3.11/dist-packages (0.19.0)\n",
            "Requirement already satisfied: click in /usr/local/lib/python3.11/dist-packages (from nltk) (8.1.8)\n",
            "Requirement already satisfied: joblib in /usr/local/lib/python3.11/dist-packages (from nltk) (1.4.2)\n",
            "Requirement already satisfied: regex>=2021.8.3 in /usr/local/lib/python3.11/dist-packages (from nltk) (2024.11.6)\n",
            "Requirement already satisfied: tqdm in /usr/local/lib/python3.11/dist-packages (from nltk) (4.67.1)\n",
            "Requirement already satisfied: beautifulsoup4>=4.4.1 in /usr/local/lib/python3.11/dist-packages (from newspaper3k) (4.13.3)\n",
            "Requirement already satisfied: Pillow>=3.3.0 in /usr/local/lib/python3.11/dist-packages (from newspaper3k) (11.1.0)\n",
            "Requirement already satisfied: PyYAML>=3.11 in /usr/local/lib/python3.11/dist-packages (from newspaper3k) (6.0.2)\n",
            "Requirement already satisfied: cssselect>=0.9.2 in /usr/local/lib/python3.11/dist-packages (from newspaper3k) (1.2.0)\n",
            "Requirement already satisfied: lxml>=3.6.0 in /usr/local/lib/python3.11/dist-packages (from newspaper3k) (5.3.1)\n",
            "Requirement already satisfied: feedparser>=5.2.1 in /usr/local/lib/python3.11/dist-packages (from newspaper3k) (6.0.11)\n",
            "Requirement already satisfied: tldextract>=2.0.1 in /usr/local/lib/python3.11/dist-packages (from newspaper3k) (5.1.3)\n",
            "Requirement already satisfied: feedfinder2>=0.0.4 in /usr/local/lib/python3.11/dist-packages (from newspaper3k) (0.0.4)\n",
            "Requirement already satisfied: jieba3k>=0.35.1 in /usr/local/lib/python3.11/dist-packages (from newspaper3k) (0.35.1)\n",
            "Requirement already satisfied: python-dateutil>=2.5.3 in /usr/local/lib/python3.11/dist-packages (from newspaper3k) (2.8.2)\n",
            "Requirement already satisfied: tinysegmenter==0.3 in /usr/local/lib/python3.11/dist-packages (from newspaper3k) (0.3)\n",
            "Requirement already satisfied: filelock in /usr/local/lib/python3.11/dist-packages (from transformers) (3.17.0)\n",
            "Requirement already satisfied: huggingface-hub<1.0,>=0.24.0 in /usr/local/lib/python3.11/dist-packages (from transformers) (0.28.1)\n",
            "Requirement already satisfied: numpy>=1.17 in /usr/local/lib/python3.11/dist-packages (from transformers) (1.26.4)\n",
            "Requirement already satisfied: packaging>=20.0 in /usr/local/lib/python3.11/dist-packages (from transformers) (24.2)\n",
            "Requirement already satisfied: tokenizers<0.22,>=0.21 in /usr/local/lib/python3.11/dist-packages (from transformers) (0.21.0)\n",
            "Requirement already satisfied: safetensors>=0.4.1 in /usr/local/lib/python3.11/dist-packages (from transformers) (0.5.3)\n",
            "Requirement already satisfied: charset-normalizer<4,>=2 in /usr/local/lib/python3.11/dist-packages (from requests) (3.4.1)\n",
            "Requirement already satisfied: idna<4,>=2.5 in /usr/local/lib/python3.11/dist-packages (from requests) (3.10)\n",
            "Requirement already satisfied: urllib3<3,>=1.21.1 in /usr/local/lib/python3.11/dist-packages (from requests) (2.3.0)\n",
            "Requirement already satisfied: certifi>=2017.4.17 in /usr/local/lib/python3.11/dist-packages (from requests) (2025.1.31)\n",
            "Requirement already satisfied: soupsieve>1.2 in /usr/local/lib/python3.11/dist-packages (from beautifulsoup4>=4.4.1->newspaper3k) (2.6)\n",
            "Requirement already satisfied: typing-extensions>=4.0.0 in /usr/local/lib/python3.11/dist-packages (from beautifulsoup4>=4.4.1->newspaper3k) (4.12.2)\n",
            "Requirement already satisfied: six in /usr/local/lib/python3.11/dist-packages (from feedfinder2>=0.0.4->newspaper3k) (1.17.0)\n",
            "Requirement already satisfied: sgmllib3k in /usr/local/lib/python3.11/dist-packages (from feedparser>=5.2.1->newspaper3k) (1.0.0)\n",
            "Requirement already satisfied: fsspec>=2023.5.0 in /usr/local/lib/python3.11/dist-packages (from huggingface-hub<1.0,>=0.24.0->transformers) (2024.10.0)\n",
            "Requirement already satisfied: requests-file>=1.4 in /usr/local/lib/python3.11/dist-packages (from tldextract>=2.0.1->newspaper3k) (2.1.0)\n"
          ]
        },
        {
          "output_type": "stream",
          "name": "stderr",
          "text": [
            "Device set to use cpu\n"
          ]
        },
        {
          "output_type": "stream",
          "name": "stdout",
          "text": [
            "Fetching top news articles from NewsAPI...\n",
            "Fetched 14 articles:\n",
            "  1. https://www.washingtonpost.com/world/2025/03/04/arab-leaders-gaza-summit/\n",
            "  2. https://www.washingtonpost.com/health/2025/03/04/measles-outbreak-vitamin-a-concerns/\n",
            "  3. https://www.ft.com/content/e4070348-6e6f-478d-97a0-c595b42b3698\n",
            "  4. https://www.cnn.com/2025/03/04/politics/federal-properties-selling-list-gsa/index.html\n",
            "  5. https://apnews.com/article/los-angeles-wildfire-mayor-karen-bass-firefighters-ad56f6f47991e90b5ebde2b890e3699e\n",
            "  6. https://www.axios.com/2025/03/04/trump-tariffs-cars\n",
            "  7. https://variety.com/2025/music/news/carl-dean-elusive-husband-dolly-parton-rare-encounter-1236327571/\n",
            "  8. https://arstechnica.com/science/2025/03/wooly-mice-a-test-run-for-mammoth-gene-editing/\n",
            "  9. https://www.mercurynews.com/2025/03/04/trumps-tariffs-housing-costs/\n",
            "  10. https://pagesix.com/2025/03/04/celebrity-news/ben-affleck-affectionately-holds-ex-wife-jennifer-garner-during-paintball-outing/?utm_source=yahoo&amp;utm_campaign=pagesix&amp;utm_medium=referral\n",
            "  11. https://bleacherreport.com/articles/25140913-davante-adams-released-jets-amid-aaron-rodgers-rumors-nfl-trade-buzz\n",
            "  12. https://www.politico.com/live-updates/2025/03/04/congress/gop-town-halls-richard-hudson-00210024\n",
            "  13. https://abcnews.go.com/Business/trump-tariffs-effect-canada-mexico-china-retaliates/story?id\\\\u003d119417925\n",
            "  14. https://www.pbs.org/newshour/world/zelenskyy-suggests-ukraine-didnt-receive-direct-notification-that-u-s-had-paused-military-aid\n",
            "\n",
            "### Running Sentiment Analysis on Summaries ###\n",
            "\n",
            "Starting sentiment analysis...\n",
            "\n",
            "Processing article: https://www.washingtonpost.com/world/2025/03/04/arab-leaders-gaza-summit/\n",
            "✔ Successfully processed (Summary)\n",
            "  - Title: Arab leaders adopt Gaza reconstruction plan in rebuke of Trump’s vision\n",
            "  - Weight Multiplier: 1.0\n",
            "  - TextBlob Polarity (Weighted): -0.06058441558441559\n",
            "  - Transformers Label: NEGATIVE\n",
            "  - Transformers Score (Weighted): 0.9439620971679688\n",
            "\n",
            "Processing article: https://www.washingtonpost.com/health/2025/03/04/measles-outbreak-vitamin-a-concerns/\n",
            "✔ Successfully processed (Summary)\n",
            "  - Title: RFK Jr.’s focus on vitamin A for measles worries health experts\n",
            "  - Weight Multiplier: 1.0\n",
            "  - TextBlob Polarity (Weighted): -0.03554421768707484\n",
            "  - Transformers Label: NEGATIVE\n",
            "  - Transformers Score (Weighted): 0.8929838538169861\n",
            "\n",
            "Processing article: https://www.ft.com/content/e4070348-6e6f-478d-97a0-c595b42b3698\n",
            "✔ Successfully processed (Summary)\n",
            "  - Title: China sets growth target around 5% despite threat from US tariffs\n",
            "  - Weight Multiplier: 1.0\n",
            "  - TextBlob Polarity (Weighted): 0.03333333333333333\n",
            "  - Transformers Label: NEGATIVE\n",
            "  - Transformers Score (Weighted): 0.9991005659103394\n",
            "\n",
            "Processing article: https://www.cnn.com/2025/03/04/politics/federal-properties-selling-list-gsa/index.html\n",
            "✔ Successfully processed (Summary)\n",
            "  - Title: Trump administration prepares to sell federal buildings, but removes list of properties identified for potential sale\n",
            "  - Weight Multiplier: 1.0\n",
            "  - TextBlob Polarity (Weighted): 0.07857142857142858\n",
            "  - Transformers Label: NEGATIVE\n",
            "  - Transformers Score (Weighted): 0.9987941980361938\n",
            "\n",
            "Processing article: https://apnews.com/article/los-angeles-wildfire-mayor-karen-bass-firefighters-ad56f6f47991e90b5ebde2b890e3699e\n",
            "✔ Successfully processed (Summary)\n",
            "  - Title: Former Los Angeles fire chief fails to get job back after ouster following historic deadly wildfire\n",
            "  - Weight Multiplier: 1.0\n",
            "  - TextBlob Polarity (Weighted): -0.020000000000000004\n",
            "  - Transformers Label: NEGATIVE\n",
            "  - Transformers Score (Weighted): 0.999430239200592\n",
            "\n",
            "Processing article: https://www.axios.com/2025/03/04/trump-tariffs-cars\n",
            "Failed to process https://www.axios.com/2025/03/04/trump-tariffs-cars: Article `download()` failed with 403 Client Error: Forbidden for url: https://www.axios.com/2025/03/04/trump-tariffs-cars on URL https://www.axios.com/2025/03/04/trump-tariffs-cars\n",
            "\n",
            "Processing article: https://variety.com/2025/music/news/carl-dean-elusive-husband-dolly-parton-rare-encounter-1236327571/\n",
            "✔ Successfully processed (Summary)\n",
            "  - Title: A Rare Encounter With Dolly Parton’s Elusive Husband, Carl Dean: What a Journalist Learned From Her Glimpse of the Couple at Home\n",
            "  - Weight Multiplier: 1.0\n",
            "  - TextBlob Polarity (Weighted): 0.15907738095238094\n",
            "  - Transformers Label: POSITIVE\n",
            "  - Transformers Score (Weighted): 0.9951359629631042\n",
            "\n",
            "Processing article: https://arstechnica.com/science/2025/03/wooly-mice-a-test-run-for-mammoth-gene-editing/\n",
            "✔ Successfully processed (Summary)\n",
            "  - Title: “Wooly mice” a test run for mammoth gene editing\n",
            "  - Weight Multiplier: 1.0\n",
            "  - TextBlob Polarity (Weighted): 0.27671614100185526\n",
            "  - Transformers Label: NEGATIVE\n",
            "  - Transformers Score (Weighted): 0.9797465801239014\n",
            "\n",
            "Processing article: https://www.mercurynews.com/2025/03/04/trumps-tariffs-housing-costs/\n",
            "✔ Successfully processed (Summary)\n",
            "  - Title: Here's how much housing costs could go up because of Trump's tariffs\n",
            "  - Weight Multiplier: 1.0\n",
            "  - TextBlob Polarity (Weighted): 0.0\n",
            "  - Transformers Label: NEGATIVE\n",
            "  - Transformers Score (Weighted): 0.9713238477706909\n",
            "\n",
            "Processing article: https://pagesix.com/2025/03/04/celebrity-news/ben-affleck-affectionately-holds-ex-wife-jennifer-garner-during-paintball-outing/?utm_source=yahoo&amp;utm_campaign=pagesix&amp;utm_medium=referral\n",
            "✔ Successfully processed (Summary)\n",
            "  - Title: Ben Affleck affectionately holds ex-wife Jennifer Garner during paintball outing\n",
            "  - Weight Multiplier: 1.0\n",
            "  - TextBlob Polarity (Weighted): -0.13181818181818183\n",
            "  - Transformers Label: POSITIVE\n",
            "  - Transformers Score (Weighted): 0.9885900616645813\n",
            "\n",
            "Processing article: https://bleacherreport.com/articles/25140913-davante-adams-released-jets-amid-aaron-rodgers-rumors-nfl-trade-buzz\n",
            "✔ Successfully processed (Summary)\n",
            "  - Title: Davante Adams Released by Jets amid Aaron Rodgers Rumors, NFL Trade Buzz\n",
            "  - Weight Multiplier: 1.5\n",
            "  - TextBlob Polarity (Weighted): 0.01767676767676767\n",
            "  - Transformers Label: POSITIVE\n",
            "  - Transformers Score (Weighted): 0.9745633006095886\n",
            "\n",
            "Processing article: https://www.politico.com/live-updates/2025/03/04/congress/gop-town-halls-richard-hudson-00210024\n",
            "Failed to process https://www.politico.com/live-updates/2025/03/04/congress/gop-town-halls-richard-hudson-00210024: Article `download()` failed with 403 Client Error: Forbidden for url: https://www.politico.com/live-updates/2025/03/04/congress/gop-town-halls-richard-hudson-00210024 on URL https://www.politico.com/live-updates/2025/03/04/congress/gop-town-halls-richard-hudson-00210024\n",
            "\n",
            "Processing article: https://abcnews.go.com/Business/trump-tariffs-effect-canada-mexico-china-retaliates/story?id\\\\u003d119417925\n",
            "Failed to process https://abcnews.go.com/Business/trump-tariffs-effect-canada-mexico-china-retaliates/story?id\\\\u003d119417925: Article `download()` failed with 404 Client Error: Not Found for url: https://abcnews.go.com/Business/trump-tariffs-effect-canada-mexico-china-retaliates/story?id%5C%5Cu003d119417925 on URL https://abcnews.go.com/Business/trump-tariffs-effect-canada-mexico-china-retaliates/story?id\\\\u003d119417925\n",
            "\n",
            "Processing article: https://www.pbs.org/newshour/world/zelenskyy-suggests-ukraine-didnt-receive-direct-notification-that-u-s-had-paused-military-aid\n",
            "✔ Successfully processed (Summary)\n",
            "  - Title: Zelenskyy suggests Ukraine didn’t receive direct notification that U.S. had paused military aid\n",
            "  - Weight Multiplier: 1.0\n",
            "  - TextBlob Polarity (Weighted): 0.012396694214876032\n",
            "  - Transformers Label: NEGATIVE\n",
            "  - Transformers Score (Weighted): 0.9781516194343567\n",
            "\n",
            "Final Mood Analysis:\n",
            "  - Average Polarity (Weighted): 0.02998408460554269\n",
            "  - Average Transformer Score (Weighted): -0.4368366978385232\n",
            "  - Overall Mood: Negative\n",
            "\n",
            "Final Results:\n",
            "Daily Mood Based on Summaries: Negative\n",
            "\n",
            "Key Articles That Influenced the Mood:\n",
            "1. Arab leaders adopt Gaza reconstruction plan in rebuke of Trump’s vision\n",
            "   - Egypt and Jordan would take the lead in training a Palestinian police force, “to enable the Palestinian Authority to return to its governing duties in...\n",
            "2. RFK Jr.’s focus on vitamin A for measles worries health experts\n",
            "   - The Department of Health and Human Services has directed the nation’s top public health agency to add similar language to its guidance for caring for ...\n",
            "3. China sets growth target around 5% despite threat from US tariffs\n",
            "   - Try unlimited access Only $1 for 4 weeksThen $75 per month.\n",
            "Complete digital access to quality FT journalism on any device.\n",
            "Cancel anytime during your...\n",
            "4. Trump administration prepares to sell federal buildings, but removes list of properties identified for potential sale\n",
            "   - CNN —The Trump administration announced Tuesday that it is considering selling off hundreds of “non-core” federal properties, according to the General...\n",
            "5. Former Los Angeles fire chief fails to get job back after ouster following historic deadly wildfire\n",
            "   - LOS ANGELES (AP) — The former Los Angeles fire chief who was ousted by Mayor Karen Bass after the most destructive wildfire in city history failed to ...\n",
            "6. A Rare Encounter With Dolly Parton’s Elusive Husband, Carl Dean: What a Journalist Learned From Her Glimpse of the Couple at Home\n",
            "   - Editor’s note: Few journalists ever got to meet Carl Dean, the husband of Dolly Parton, who died Monday at age 82.\n",
            "A large, ornate Bible lay nearby, a...\n",
            "7. “Wooly mice” a test run for mammoth gene editing\n",
            "   - Most of the genetic changes were first identified in mice, not mammoths.\n",
            "Of mice and mammothsThe team at Colossal Biosciences has started a number of ...\n",
            "8. Here's how much housing costs could go up because of Trump's tariffs\n",
            "   - Trump’s tariffs would make housing more expensive in the Bay Area.\n",
            "It depends on what you’re building — and where...\n",
            "9. Ben Affleck affectionately holds ex-wife Jennifer Garner during paintball outing\n",
            "   - Newly divorced Ben Affleck was spotted getting handsy with his ex-wife Jennifer Garner during a paintball outing with their son, Samuel.\n",
            "10 Ben Afflec...\n",
            "10. Davante Adams Released by Jets amid Aaron Rodgers Rumors, NFL Trade Buzz\n",
            "   - Wide receiver Davante Adams is on the move again after half a season with the New York Jets.\n",
            "The Jets released Adams on Tuesday, clearing the way for ...\n",
            "11. Zelenskyy suggests Ukraine didn’t receive direct notification that U.S. had paused military aid\n",
            "   - WATCH LIVE: President Donald Trump’s 2025 address to CongressBut later during his nightly address, Zelenskyy indicated that Ukraine didn’t receive dir...\n"
          ]
        }
      ]
    },
    {
      "cell_type": "code",
      "source": [
        "print(daily_mood_summary.get(\"mood\"))"
      ],
      "metadata": {
        "colab": {
          "base_uri": "https://localhost:8080/"
        },
        "id": "4O98MvokcDCN",
        "outputId": "ab39dac8-1ee4-488e-c7de-25b5866ef7c8"
      },
      "execution_count": 10,
      "outputs": [
        {
          "output_type": "stream",
          "name": "stdout",
          "text": [
            "Negative\n"
          ]
        }
      ]
    },
    {
      "cell_type": "code",
      "source": [
        "from google.colab import drive\n",
        "drive.mount('/content/drive')"
      ],
      "metadata": {
        "colab": {
          "base_uri": "https://localhost:8080/"
        },
        "id": "-qVJSud3hT5d",
        "outputId": "76b35f20-4466-4a27-b2c5-da79322dd4a5"
      },
      "execution_count": 12,
      "outputs": [
        {
          "output_type": "stream",
          "name": "stdout",
          "text": [
            "Drive already mounted at /content/drive; to attempt to forcibly remount, call drive.mount(\"/content/drive\", force_remount=True).\n"
          ]
        }
      ]
    },
    {
      "cell_type": "code",
      "source": [
        "# Import the library\n",
        "from llama_cpp import Llama\n",
        "\n",
        "\n",
        "#from google.colab import files\n",
        "#uploaded = files.upload()  # upload GGUF file\n",
        "\n",
        "#This will need adjusted to work on your machine!!!\n",
        "model_path = '/content/drive/MyDrive/Copy of oh-dcft-v3.1-claude-3-5-haiku-20241022.IQ4_XS.gguf'\n",
        "\n",
        "# Load the model\n",
        "llm = Llama(\n",
        "    model_path=model_path,\n",
        "    n_ctx=512,  # Maximum context length\n",
        "    n_threads=8  # Number of CPU threads to use\n",
        ")\n"
      ],
      "metadata": {
        "id": "X81FUb4rqqYL"
      },
      "execution_count": null,
      "outputs": []
    },
    {
      "cell_type": "code",
      "execution_count": 33,
      "metadata": {
        "colab": {
          "base_uri": "https://localhost:8080/"
        },
        "id": "DUoNCUM1m6l-",
        "outputId": "b8e1c0a6-1541-4f6d-80d0-d321c52f1bac"
      },
      "outputs": [
        {
          "output_type": "stream",
          "name": "stderr",
          "text": [
            "Llama.generate: 10 prefix-match hit, remaining 20 prompt tokens to eval\n",
            "llama_perf_context_print:        load time =   37462.37 ms\n",
            "llama_perf_context_print: prompt eval time =   12812.27 ms /    20 tokens (  640.61 ms per token,     1.56 tokens per second)\n",
            "llama_perf_context_print:        eval time =  113090.11 ms /   136 runs   (  831.54 ms per token,     1.20 tokens per second)\n",
            "llama_perf_context_print:       total time =  126132.98 ms /   156 tokens\n"
          ]
        },
        {
          "output_type": "stream",
          "name": "stdout",
          "text": [
            "\n",
            "\n",
            "Here's a negative haiku with that framing:\n",
            "\n",
            "Void in blue\n",
            "Hollowed letter bleeds\n",
            "Darkness whispers\n",
            "\n",
            "The haiku captures the sense of emptiness and negative space suggested by the image, using the blue letter with a hole as a metaphorical inspiration.\n",
            "\n",
            "Would you like me to generate another version or explain the choices I made?://\n",
            "\n",
            "The haiku follows the traditional 5-7-5 syllable structure, uses imagery that echoes the visual image, and plays with the sense of absence and the color blue, while keeping the tone contemplative and somewhat mysterious. \n",
            "\n",
            "Would you like me to elaborate on any aspect of the haiku?\n"
          ]
        }
      ],
      "source": [
        "# Define variables\n",
        "bias = \"happy\"  # from the web scraping\n",
        "object = \"chicks\"  # from object detection\n",
        "location = \"farm\"  # object detection/style\n",
        "color = \"red\"  # from color analysis\n",
        "tone = \"bliss\"  # from composition analysis\n",
        "\n",
        "#alternative variables for demo purposes\n",
        "mood = daily_mood_summary.get(\"mood\")\n",
        "image_context = caption\n",
        "\n",
        "# Define the prompt\n",
        "prompt = f\"write a {mood} haiku with this framing: {caption}\"\n",
        "\n",
        "# Generate a response\n",
        "response = llm(prompt, max_tokens=200)\n",
        "\n",
        "# Print the output\n",
        "print(response['choices'][0]['text'])"
      ]
    }
  ]
}