{
  "nbformat": 4,
  "nbformat_minor": 0,
  "metadata": {
    "colab": {
      "provenance": [],
      "include_colab_link": true
    },
    "kernelspec": {
      "name": "python3",
      "display_name": "Python 3"
    },
    "language_info": {
      "name": "python"
    }
  },
  "cells": [
    {
      "cell_type": "markdown",
      "metadata": {
        "id": "view-in-github",
        "colab_type": "text"
      },
      "source": [
        "<a href=\"https://colab.research.google.com/github/svanalex/HaikusFromPaintings/blob/main/Copy_of_PromptGenerator.ipynb\" target=\"_parent\"><img src=\"https://colab.research.google.com/assets/colab-badge.svg\" alt=\"Open In Colab\"/></a>"
      ]
    },
    {
      "cell_type": "code",
      "source": [
        "def get_emotion(positivity_score, intensity_score):\n",
        "\n",
        "\n",
        "    # Define the 6x6 grid of emotions\n",
        "    emotions = [\n",
        "        ['depressed', 'lonely', 'ashamed', 'anxious', 'jealous', 'furious'],\n",
        "        ['miserable', 'sad', 'shy', 'embarrassed', 'angry', 'stressed'],\n",
        "        ['tired', 'disappointed', 'bored', 'annoyed', 'frustrated', 'rowdy'],\n",
        "        ['cozy', 'chill', 'fine', 'pleasant', 'silly', 'energetic'],\n",
        "        ['safe', 'calm', 'curious', 'creative', 'happy', 'excited'],\n",
        "        ['peaceful', 'grateful', 'awe', 'love', 'connected', 'joy']\n",
        "      ]\n",
        "\n",
        "    # Ensure the input scores are between 0 and 5 (inclusive)\n",
        "    if 0 <= positivity_score <= 5 and 0 <= intensity_score <= 5:\n",
        "        # Return the corresponding emotion\n",
        "        return emotions[positivity_score][intensity_score]\n",
        "    else:\n",
        "        return \"Invalid input. Scores must be between 0 and 5.\"\n",
        "\n",
        "# Example usage\n",
        "positivity = 5  # (e.g., 'connected')\n",
        "intensity = 2  # (e.g., 'fine')\n",
        "emotion = get_emotion(positivity, intensity)\n",
        "print(f\"The emotion for positivity {positivity} and intensity {intensity} is: {emotion}\")\n"
      ],
      "metadata": {
        "colab": {
          "base_uri": "https://localhost:8080/"
        },
        "id": "Wp2M3gC_rS_e",
        "outputId": "a70ca637-6f46-4b21-8eab-1f8d2f415602"
      },
      "execution_count": null,
      "outputs": [
        {
          "output_type": "stream",
          "name": "stdout",
          "text": [
            "The emotion for positivity 5 and intensity 2 is: awe\n"
          ]
        }
      ]
    },
    {
      "cell_type": "code",
      "execution_count": null,
      "metadata": {
        "colab": {
          "base_uri": "https://localhost:8080/"
        },
        "id": "2juC1hsDOuVe",
        "outputId": "9bddaf1b-f9e8-4432-9782-981e47b8b344"
      },
      "outputs": [
        {
          "output_type": "stream",
          "name": "stdout",
          "text": [
            "Generated Haiku Prompt: ['Write a haiku about feeling connected, include a(n) ocean in hues of soft blue, golden yellow.', 'Describe the essence of sunset with a connected emotion and golden yellow color.', 'Capture the feeling of a calm and balanced scene, blending the feeling of being connected.', \"Today I am feeling connected. I'm looking at a calm and balanced painting of sunset with lots of soft blue. Please write me a haiku that captures how I feel and what I see.\"]\n"
          ]
        }
      ],
      "source": [
        "import random\n",
        "\n",
        "# Example image analysis data\n",
        "image_analysis = {\n",
        "    \"colors\": [\"soft blue\", \"golden yellow\"],\n",
        "    \"objects\": [\"ocean\", \"sunset\"],\n",
        "    \"composition\": \"calm and balanced\"\n",
        "}\n",
        "\n",
        "\n",
        "\n",
        "# Function to generate haiku prompts\n",
        "def generate_haiku_prompts(image_data, emotion):\n",
        "\n",
        "    #TO DO: make sure each item of data is represented in at least 1 prompt, randomize what item is chosen for each prompt\n",
        "    prompts = [\n",
        "        f\"Write a haiku about feeling {emotion}, include a(n) {image_data['objects'][0]} in hues of {', '.join(image_data['colors'])}.\",\n",
        "        f\"Describe the essence of {image_data['objects'][1]} with a {emotion} emotion and {image_data['colors'][1]} color.\",\n",
        "        f\"Capture the feeling of a {image_data['composition']} scene, blending the feeling of being {emotion}.\",\n",
        "        f\"Today I am feeling {emotion}. I'm looking at a {image_data['composition']} painting of {image_data['objects'][1]} with lots of {image_data['colors'][0]}. Please write me a haiku that captures how I feel and what I see.\"\n",
        "    ]\n",
        "\n",
        "    return prompts\n",
        "\n",
        "# Generate a haiku prompt\n",
        "haiku_prompt = generate_haiku_prompts(image_analysis, emotion)\n",
        "print(\"Generated Haiku Prompt:\", haiku_prompt)\n"
      ]
    },
    {
      "cell_type": "code",
      "source": [
        "!git clone https://github.com/svanalex/HaikusFromPaintings"
      ],
      "metadata": {
        "colab": {
          "base_uri": "https://localhost:8080/"
        },
        "id": "PT8qI6Hbca17",
        "outputId": "0944eae8-3665-4689-bb57-4efa7865e225"
      },
      "execution_count": null,
      "outputs": [
        {
          "output_type": "stream",
          "name": "stdout",
          "text": [
            "Cloning into 'HaikusFromPaintings'...\n",
            "remote: Enumerating objects: 29, done.\u001b[K\n",
            "remote: Counting objects: 100% (29/29), done.\u001b[K\n",
            "remote: Compressing objects: 100% (23/23), done.\u001b[K\n",
            "remote: Total 29 (delta 10), reused 15 (delta 4), pack-reused 0 (from 0)\u001b[K\n",
            "Receiving objects: 100% (29/29), 430.16 KiB | 1.67 MiB/s, done.\n",
            "Resolving deltas: 100% (10/10), done.\n"
          ]
        }
      ]
    },
    {
      "cell_type": "code",
      "source": [
        "%cd HaikusFromPaintings\n"
      ],
      "metadata": {
        "colab": {
          "base_uri": "https://localhost:8080/"
        },
        "id": "bqI-Mkrzce6X",
        "outputId": "8fc26b5d-b43c-40ee-b7d8-637e75763f54"
      },
      "execution_count": null,
      "outputs": [
        {
          "output_type": "stream",
          "name": "stdout",
          "text": [
            "/content/HaikusFromPaintings/HaikusFromPaintings\n"
          ]
        }
      ]
    },
    {
      "cell_type": "code",
      "source": [
        "from google.colab import drive\n",
        "import os\n",
        "\n",
        "# Mount Google Drive to access your files\n",
        "drive.mount('/content/drive')\n",
        "\n",
        "# Get the filename of the current notebook\n",
        "notebook_path = '/content/drive/MyDrive/Colab Notebooks/'  # Adjust to your actual path if needed\n",
        "notebook_filename = os.path.basename(notebook_path)\n",
        "print(notebook_filename)\n"
      ],
      "metadata": {
        "colab": {
          "base_uri": "https://localhost:8080/"
        },
        "id": "ihSvSXvNcoYm",
        "outputId": "07767032-e465-4a76-ea4a-e39f0f9fadc4"
      },
      "execution_count": null,
      "outputs": [
        {
          "output_type": "stream",
          "name": "stdout",
          "text": [
            "Mounted at /content/drive\n",
            "\n"
          ]
        }
      ]
    },
    {
      "cell_type": "code",
      "source": [
        "!git config --global user.email \"courtneybodily@isu.edu\"\n",
        "!git config --global user.name \"courtneybodily\"\n"
      ],
      "metadata": {
        "id": "Czb4qWbEeH74"
      },
      "execution_count": null,
      "outputs": []
    },
    {
      "cell_type": "code",
      "source": [
        "!git add PromptGenerator.ipynb\n",
        "!git commit -m \"Added new file from Google Colab\"\n",
        "!git push origin main  # Change 'main' if the repo uses 'master' or another branch\n"
      ],
      "metadata": {
        "colab": {
          "base_uri": "https://localhost:8080/"
        },
        "id": "RO9pLNL9giKz",
        "outputId": "ca733a16-2460-4ad2-b4be-96a8b77e9022"
      },
      "execution_count": null,
      "outputs": [
        {
          "output_type": "stream",
          "name": "stdout",
          "text": [
            "[main 721275e] Added new file from Google Colab\n",
            " 1 file changed, 1 insertion(+)\n",
            " create mode 100644 PromptGenerator.ipynb\n",
            "fatal: could not read Username for 'https://github.com': No such device or address\n"
          ]
        }
      ]
    }
  ]
}
